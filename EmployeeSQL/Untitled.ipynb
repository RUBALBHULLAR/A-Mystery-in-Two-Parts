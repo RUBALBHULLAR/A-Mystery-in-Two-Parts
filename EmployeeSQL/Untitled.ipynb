{
 "cells": [
  {
   "cell_type": "code",
   "execution_count": 1,
   "metadata": {},
   "outputs": [],
   "source": [
    "import sqlalchemy"
   ]
  },
  {
   "cell_type": "code",
   "execution_count": 2,
   "metadata": {},
   "outputs": [
    {
     "name": "stdout",
     "output_type": "stream",
     "text": [
      "Collecting psycopg2\n",
      "  Using cached psycopg2-2.8.6.tar.gz (383 kB)\n",
      "\u001b[31m    ERROR: Command errored out with exit status 1:\n",
      "     command: /opt/anaconda3/bin/python -c 'import sys, setuptools, tokenize; sys.argv[0] = '\"'\"'/private/var/folders/57/q8qlk2f16c743vmdcnh8bsxc0000gn/T/pip-install-cukou2vz/psycopg2/setup.py'\"'\"'; __file__='\"'\"'/private/var/folders/57/q8qlk2f16c743vmdcnh8bsxc0000gn/T/pip-install-cukou2vz/psycopg2/setup.py'\"'\"';f=getattr(tokenize, '\"'\"'open'\"'\"', open)(__file__);code=f.read().replace('\"'\"'\\r\\n'\"'\"', '\"'\"'\\n'\"'\"');f.close();exec(compile(code, __file__, '\"'\"'exec'\"'\"'))' egg_info --egg-base /private/var/folders/57/q8qlk2f16c743vmdcnh8bsxc0000gn/T/pip-pip-egg-info-0ldpmx58\n",
      "         cwd: /private/var/folders/57/q8qlk2f16c743vmdcnh8bsxc0000gn/T/pip-install-cukou2vz/psycopg2/\n",
      "    Complete output (23 lines):\n",
      "    running egg_info\n",
      "    creating /private/var/folders/57/q8qlk2f16c743vmdcnh8bsxc0000gn/T/pip-pip-egg-info-0ldpmx58/psycopg2.egg-info\n",
      "    writing /private/var/folders/57/q8qlk2f16c743vmdcnh8bsxc0000gn/T/pip-pip-egg-info-0ldpmx58/psycopg2.egg-info/PKG-INFO\n",
      "    writing dependency_links to /private/var/folders/57/q8qlk2f16c743vmdcnh8bsxc0000gn/T/pip-pip-egg-info-0ldpmx58/psycopg2.egg-info/dependency_links.txt\n",
      "    writing top-level names to /private/var/folders/57/q8qlk2f16c743vmdcnh8bsxc0000gn/T/pip-pip-egg-info-0ldpmx58/psycopg2.egg-info/top_level.txt\n",
      "    writing manifest file '/private/var/folders/57/q8qlk2f16c743vmdcnh8bsxc0000gn/T/pip-pip-egg-info-0ldpmx58/psycopg2.egg-info/SOURCES.txt'\n",
      "    \n",
      "    Error: pg_config executable not found.\n",
      "    \n",
      "    pg_config is required to build psycopg2 from source.  Please add the directory\n",
      "    containing pg_config to the $PATH or specify the full executable path with the\n",
      "    option:\n",
      "    \n",
      "        python setup.py build_ext --pg-config /path/to/pg_config build ...\n",
      "    \n",
      "    or with the pg_config option in 'setup.cfg'.\n",
      "    \n",
      "    If you prefer to avoid building psycopg2 from source, please install the PyPI\n",
      "    'psycopg2-binary' package instead.\n",
      "    \n",
      "    For further information please check the 'doc/src/install.rst' file (also at\n",
      "    <https://www.psycopg.org/docs/install.html>).\n",
      "    \n",
      "    ----------------------------------------\u001b[0m\n",
      "\u001b[31mERROR: Command errored out with exit status 1: python setup.py egg_info Check the logs for full command output.\u001b[0m\n"
     ]
    }
   ],
   "source": []
  },
  {
   "cell_type": "code",
   "execution_count": null,
   "metadata": {},
   "outputs": [],
   "source": []
  },
  {
   "cell_type": "code",
   "execution_count": null,
   "metadata": {},
   "outputs": [],
   "source": []
  },
  {
   "cell_type": "code",
   "execution_count": null,
   "metadata": {},
   "outputs": [],
   "source": []
  }
 ],
 "metadata": {
  "kernelspec": {
   "display_name": "Python 3",
   "language": "python",
   "name": "python3"
  },
  "language_info": {
   "codemirror_mode": {
    "name": "ipython",
    "version": 3
   },
   "file_extension": ".py",
   "mimetype": "text/x-python",
   "name": "python",
   "nbconvert_exporter": "python",
   "pygments_lexer": "ipython3",
   "version": "3.8.3"
  }
 },
 "nbformat": 4,
 "nbformat_minor": 4
}
